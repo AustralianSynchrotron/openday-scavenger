{
 "cells": [
  {
   "cell_type": "code",
   "execution_count": 2,
   "metadata": {},
   "outputs": [],
   "source": [
    "%matplotlib inline\n",
    "\n",
    "from pathlib import Path\n",
    "\n",
    "import numpy as np\n",
    "from PIL import Image, ImageDraw, ImageFont"
   ]
  },
  {
   "cell_type": "code",
   "execution_count": 3,
   "metadata": {},
   "outputs": [
    {
     "name": "stdout",
     "output_type": "stream",
     "text": [
      "Saved ../static/im1\n",
      "Saved ../static/im2\n",
      "Saved ../static/im3\n",
      "Saved ../static/im4\n",
      "Saved ../static/im5\n",
      "Saved ../static/im6\n"
     ]
    }
   ],
   "source": [
    "IMAGE_DATA = {\n",
    "    \"lobster\": [\n",
    "        \"im1\",\n",
    "        \"../static/105408-Lobster-100um-CaCuAs-scale.jpg\",\n",
    "        \"Image (c) Daniel McDougall, University of Auckland, Licensed under CC BY-NC-ND 4.0\",\n",
    "    ],\n",
    "    \"ants1\": [\n",
    "        \"im2\",\n",
    "        \"../static/23902-Ants-CuZnK-scale.jpg\",\n",
    "        \"Image (c) Australian Synchrotron, Licensed under CC BY-NC-ND 4.0\",\n",
    "    ],\n",
    "    \"ants2\": [\n",
    "        \"im3\",\n",
    "        \"../static/105366-Ants-ZnCaK.jpg\",\n",
    "        \"Image (c) Australian Synchrotron, Licensed under CC BY-NC-ND 4.0\",\n",
    "    ],\n",
    "    \"flea\": [\n",
    "        \"im4\",\n",
    "        \"../static/105745-Flea-ZnCaCu.jpg\",\n",
    "        \"Image (c) Australian Synchrotron, Licensed under CC BY-NC-ND 4.0\",\n",
    "    ],\n",
    "    \"millipede\": [\n",
    "        \"im5\",\n",
    "        \"../static/40308-Millipede-CuZnFe.jpg\",\n",
    "        \"Image (c) Australian Synchrotron, Licensed under CC BY-NC-ND 4.0\",\n",
    "    ],\n",
    "    \"mosquito\": [\n",
    "        \"im6\",\n",
    "        \"../static/23920_Mosquito_2-CaBrK.jpg\",\n",
    "        \"Image (c) Australian Synchrotron, Licensed under CC BY-NC-ND 4.0\",\n",
    "    ],\n",
    "}\n",
    "\n",
    "for key, (im_name, path, text) in IMAGE_DATA.items():\n",
    "    with Image.open(path) as im:\n",
    "        maxsize = (1024, 1024)\n",
    "        im.thumbnail(maxsize, Image.Resampling.LANCZOS)\n",
    "        # Add copyright text\n",
    "        draw = ImageDraw.Draw(im)\n",
    "        im_width, im_height = im.size\n",
    "        text_height = im_height / 50\n",
    "        font = ImageFont.truetype(r\"/usr/share/fonts/truetype/dejavu/DejaVuSans.ttf\", text_height)\n",
    "        draw.text(\n",
    "            (text_height / 4, im_height - text_height * 5 / 4), text, (255, 255, 255), font=font\n",
    "        )\n",
    "        parent = Path(path).parent.joinpath(im_name)\n",
    "        im.save(f\"{parent}.jpg\")\n",
    "        np.save(f\"{parent}.npy\", np.array(im))\n",
    "\n",
    "        # make sure the npy file is readable\n",
    "        im_npy = Image.fromarray(np.load(f\"{parent}.npy\"))\n",
    "        im_npy.save(f\"{parent}_npy.jpg\")\n",
    "\n",
    "        print(f\"Saved {parent}\")"
   ]
  },
  {
   "cell_type": "code",
   "execution_count": 37,
   "metadata": {},
   "outputs": [],
   "source": [
    "def make_mask(height, width, edge=80, p=0.5):\n",
    "    height_tiles = (height + edge - 1) // edge\n",
    "    width_tiles = (width + edge - 1) // edge\n",
    "\n",
    "    np.random.seed(42)\n",
    "    a = np.random.random(size=(height_tiles, width_tiles)) < p\n",
    "    a = np.repeat(a, edge, axis=1)\n",
    "    a = np.repeat(a, edge, axis=0)\n",
    "    mask = a[:height, :width]\n",
    "    return mask.astype(np.uint8)"
   ]
  },
  {
   "cell_type": "code",
   "execution_count": 38,
   "metadata": {},
   "outputs": [],
   "source": [
    "IM = \"../static/im1.jpg\"\n",
    "\n",
    "with Image.open(IM) as im1:\n",
    "    width, height = im1.size\n",
    "    mask = make_mask(height, width)\n",
    "    im = np.array(im1, dtype=np.uint8)\n",
    "    im_masked = Image.fromarray(im * mask[..., np.newaxis], \"RGB\")\n",
    "    im_masked.save(\"test.jpg\")"
   ]
  },
  {
   "cell_type": "code",
   "execution_count": 40,
   "metadata": {},
   "outputs": [
    {
     "name": "stdout",
     "output_type": "stream",
     "text": [
      "Saved ../static/im1_1\n",
      "Saved ../static/im1_3\n",
      "Saved ../static/im1_5\n",
      "Saved ../static/im1_7\n",
      "Saved ../static/im1_9\n",
      "Saved ../static/im1_10\n",
      "Saved ../static/im2_1\n",
      "Saved ../static/im2_3\n",
      "Saved ../static/im2_5\n",
      "Saved ../static/im2_7\n",
      "Saved ../static/im2_9\n",
      "Saved ../static/im2_10\n",
      "Saved ../static/im3_1\n",
      "Saved ../static/im3_3\n",
      "Saved ../static/im3_5\n",
      "Saved ../static/im3_7\n",
      "Saved ../static/im3_9\n",
      "Saved ../static/im3_10\n",
      "Saved ../static/im4_1\n",
      "Saved ../static/im4_3\n",
      "Saved ../static/im4_5\n",
      "Saved ../static/im4_7\n",
      "Saved ../static/im4_9\n",
      "Saved ../static/im4_10\n",
      "Saved ../static/im5_1\n",
      "Saved ../static/im5_3\n",
      "Saved ../static/im5_5\n",
      "Saved ../static/im5_7\n",
      "Saved ../static/im5_9\n",
      "Saved ../static/im5_10\n",
      "Saved ../static/im6_1\n",
      "Saved ../static/im6_3\n",
      "Saved ../static/im6_5\n",
      "Saved ../static/im6_7\n",
      "Saved ../static/im6_9\n",
      "Saved ../static/im6_10\n"
     ]
    }
   ],
   "source": [
    "def add_copyright_text(im):\n",
    "    draw = ImageDraw.Draw(im)\n",
    "    im_width, im_height = im.size\n",
    "    text_height = im_height / 50\n",
    "    font = ImageFont.truetype(r\"/usr/share/fonts/truetype/dejavu/DejaVuSans.ttf\", text_height)\n",
    "    draw.text((text_height / 4, im_height - text_height * 5 / 4), text, (220, 220, 220), font=font)\n",
    "\n",
    "\n",
    "for key, (im_name, path, text) in IMAGE_DATA.items():\n",
    "    for p in [1, 3, 5, 7, 9, 10]:\n",
    "        with Image.open(path) as im:\n",
    "            maxsize = (1024, 1024)\n",
    "            im.thumbnail(maxsize, Image.Resampling.LANCZOS)\n",
    "            parent = Path(path).parent.joinpath(im_name)\n",
    "\n",
    "            im_width, im_height = im.size\n",
    "            mask = make_mask(im_height, im_width, p=p * 0.1)\n",
    "            im = np.array(im, dtype=np.uint8)\n",
    "            im_masked = Image.fromarray(im * mask[..., np.newaxis], \"RGB\")\n",
    "            add_copyright_text(im_masked)\n",
    "\n",
    "            im_masked.save(f\"{parent}_{p}.jpg\")\n",
    "            np.save(f\"{parent}_{p}.npy\", np.array(im_masked))\n",
    "\n",
    "            print(f\"Saved {parent}_{p}\")"
   ]
  },
  {
   "cell_type": "code",
   "execution_count": null,
   "metadata": {},
   "outputs": [],
   "source": []
  }
 ],
 "metadata": {
  "kernelspec": {
   "display_name": ".venv",
   "language": "python",
   "name": "python3"
  },
  "language_info": {
   "codemirror_mode": {
    "name": "ipython",
    "version": 3
   },
   "file_extension": ".py",
   "mimetype": "text/x-python",
   "name": "python",
   "nbconvert_exporter": "python",
   "pygments_lexer": "ipython3",
   "version": "3.12.6"
  }
 },
 "nbformat": 4,
 "nbformat_minor": 2
}
